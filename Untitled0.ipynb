{
  "nbformat": 4,
  "nbformat_minor": 0,
  "metadata": {
    "colab": {
      "provenance": [],
      "authorship_tag": "ABX9TyP+gGBjpQupwYfP5VInAJ0Q",
      "include_colab_link": true
    },
    "kernelspec": {
      "name": "python3",
      "display_name": "Python 3"
    },
    "language_info": {
      "name": "python"
    }
  },
  "cells": [
    {
      "cell_type": "markdown",
      "metadata": {
        "id": "view-in-github",
        "colab_type": "text"
      },
      "source": [
        "<a href=\"https://colab.research.google.com/github/zablo-dev/Script---Loading-data-in-database-with-python/blob/main/Untitled0.ipynb\" target=\"_parent\"><img src=\"https://colab.research.google.com/assets/colab-badge.svg\" alt=\"Open In Colab\"/></a>"
      ]
    },
    {
      "cell_type": "code",
      "execution_count": 2,
      "metadata": {
        "colab": {
          "base_uri": "https://localhost:8080/"
        },
        "id": "tyIeNU1v1Vxo",
        "outputId": "9c7bdf50-eb94-431d-ceee-275d3bf4471a"
      },
      "outputs": [
        {
          "output_type": "stream",
          "name": "stdout",
          "text": [
            "fatal: destination path 'llm-mistral-invoice-cpu' already exists and is not an empty directory.\n"
          ]
        }
      ],
      "source": [
        "! git clone https://github.com/katanaml/llm-mistral-invoice-cpu"
      ]
    },
    {
      "cell_type": "code",
      "source": [
        "%cd llm-mistral-invoice-cpu"
      ],
      "metadata": {
        "colab": {
          "base_uri": "https://localhost:8080/"
        },
        "id": "l3yFlQg51d8g",
        "outputId": "963a7644-b629-4f47-b65f-f2e0f0515cf1"
      },
      "execution_count": 3,
      "outputs": [
        {
          "output_type": "stream",
          "name": "stdout",
          "text": [
            "/content/llm-mistral-invoice-cpu\n"
          ]
        }
      ]
    },
    {
      "cell_type": "code",
      "source": [
        "!pip install -r requirements.txt -q"
      ],
      "metadata": {
        "colab": {
          "base_uri": "https://localhost:8080/"
        },
        "id": "klH35Vc41yQM",
        "outputId": "b76d5b09-6420-4c1c-c08b-9d1ae356d137"
      },
      "execution_count": 4,
      "outputs": [
        {
          "output_type": "stream",
          "name": "stdout",
          "text": [
            "\u001b[2K     \u001b[90m━━━━━━━━━━━━━━━━━━━━━━━━━━━━━━━━━━━━━━━━\u001b[0m \u001b[32m9.9/9.9 MB\u001b[0m \u001b[31m13.6 MB/s\u001b[0m eta \u001b[36m0:00:00\u001b[0m\n",
            "\u001b[2K     \u001b[90m━━━━━━━━━━━━━━━━━━━━━━━━━━━━━━━━━━━━━━━━\u001b[0m \u001b[32m27.0/27.0 MB\u001b[0m \u001b[31m38.4 MB/s\u001b[0m eta \u001b[36m0:00:00\u001b[0m\n",
            "\u001b[2K     \u001b[90m━━━━━━━━━━━━━━━━━━━━━━━━━━━━━━━━━━━━━━━━\u001b[0m \u001b[32m2.0/2.0 MB\u001b[0m \u001b[31m61.5 MB/s\u001b[0m eta \u001b[36m0:00:00\u001b[0m\n",
            "\u001b[2K     \u001b[90m━━━━━━━━━━━━━━━━━━━━━━━━━━━━━━━━━━━━━━━━\u001b[0m \u001b[32m286.1/286.1 kB\u001b[0m \u001b[31m24.5 MB/s\u001b[0m eta \u001b[36m0:00:00\u001b[0m\n",
            "\u001b[2K     \u001b[90m━━━━━━━━━━━━━━━━━━━━━━━━━━━━━━━━━━━━━━━━\u001b[0m \u001b[32m156.5/156.5 kB\u001b[0m \u001b[31m11.0 MB/s\u001b[0m eta \u001b[36m0:00:00\u001b[0m\n",
            "\u001b[2K     \u001b[90m━━━━━━━━━━━━━━━━━━━━━━━━━━━━━━━━━━━━━━━━\u001b[0m \u001b[32m56.5/56.5 kB\u001b[0m \u001b[31m6.7 MB/s\u001b[0m eta \u001b[36m0:00:00\u001b[0m\n",
            "\u001b[2K     \u001b[90m━━━━━━━━━━━━━━━━━━━━━━━━━━━━━━━━━━━━━━━━\u001b[0m \u001b[32m49.4/49.4 kB\u001b[0m \u001b[31m4.5 MB/s\u001b[0m eta \u001b[36m0:00:00\u001b[0m\n",
            "\u001b[2K     \u001b[90m━━━━━━━━━━━━━━━━━━━━━━━━━━━━━━━━━━━━━━━━\u001b[0m \u001b[32m23.7/23.7 MB\u001b[0m \u001b[31m44.9 MB/s\u001b[0m eta \u001b[36m0:00:00\u001b[0m\n",
            "\u001b[2K     \u001b[90m━━━━━━━━━━━━━━━━━━━━━━━━━━━━━━━━━━━━━━━━\u001b[0m \u001b[32m823.6/823.6 kB\u001b[0m \u001b[31m45.9 MB/s\u001b[0m eta \u001b[36m0:00:00\u001b[0m\n",
            "\u001b[2K     \u001b[90m━━━━━━━━━━━━━━━━━━━━━━━━━━━━━━━━━━━━━━━━\u001b[0m \u001b[32m14.1/14.1 MB\u001b[0m \u001b[31m74.1 MB/s\u001b[0m eta \u001b[36m0:00:00\u001b[0m\n",
            "\u001b[2K     \u001b[90m━━━━━━━━━━━━━━━━━━━━━━━━━━━━━━━━━━━━━━━━\u001b[0m \u001b[32m731.7/731.7 MB\u001b[0m \u001b[31m1.7 MB/s\u001b[0m eta \u001b[36m0:00:00\u001b[0m\n",
            "\u001b[2K     \u001b[90m━━━━━━━━━━━━━━━━━━━━━━━━━━━━━━━━━━━━━━━━\u001b[0m \u001b[32m410.6/410.6 MB\u001b[0m \u001b[31m3.2 MB/s\u001b[0m eta \u001b[36m0:00:00\u001b[0m\n",
            "\u001b[2K     \u001b[90m━━━━━━━━━━━━━━━━━━━━━━━━━━━━━━━━━━━━━━━━\u001b[0m \u001b[32m121.6/121.6 MB\u001b[0m \u001b[31m8.4 MB/s\u001b[0m eta \u001b[36m0:00:00\u001b[0m\n",
            "\u001b[2K     \u001b[90m━━━━━━━━━━━━━━━━━━━━━━━━━━━━━━━━━━━━━━━━\u001b[0m \u001b[32m56.5/56.5 MB\u001b[0m \u001b[31m8.4 MB/s\u001b[0m eta \u001b[36m0:00:00\u001b[0m\n",
            "\u001b[2K     \u001b[90m━━━━━━━━━━━━━━━━━━━━━━━━━━━━━━━━━━━━━━━━\u001b[0m \u001b[32m124.2/124.2 MB\u001b[0m \u001b[31m7.3 MB/s\u001b[0m eta \u001b[36m0:00:00\u001b[0m\n",
            "\u001b[2K     \u001b[90m━━━━━━━━━━━━━━━━━━━━━━━━━━━━━━━━━━━━━━━━\u001b[0m \u001b[32m196.0/196.0 MB\u001b[0m \u001b[31m2.3 MB/s\u001b[0m eta \u001b[36m0:00:00\u001b[0m\n",
            "\u001b[2K     \u001b[90m━━━━━━━━━━━━━━━━━━━━━━━━━━━━━━━━━━━━━━━━\u001b[0m \u001b[32m166.0/166.0 MB\u001b[0m \u001b[31m2.5 MB/s\u001b[0m eta \u001b[36m0:00:00\u001b[0m\n",
            "\u001b[2K     \u001b[90m━━━━━━━━━━━━━━━━━━━━━━━━━━━━━━━━━━━━━━━━\u001b[0m \u001b[32m99.1/99.1 kB\u001b[0m \u001b[31m11.4 MB/s\u001b[0m eta \u001b[36m0:00:00\u001b[0m\n",
            "\u001b[2K     \u001b[90m━━━━━━━━━━━━━━━━━━━━━━━━━━━━━━━━━━━━━━━━\u001b[0m \u001b[32m21.1/21.1 MB\u001b[0m \u001b[31m60.3 MB/s\u001b[0m eta \u001b[36m0:00:00\u001b[0m\n",
            "\u001b[?25h"
          ]
        }
      ]
    },
    {
      "cell_type": "code",
      "source": [
        "!wget https://huggingface.co/TheBloke/Mistral-7B-Instruct-v0.1-GGUF/resolve/main/mistral-7b-instruct-v0.1.Q2_K.gguf -P models"
      ],
      "metadata": {
        "colab": {
          "base_uri": "https://localhost:8080/"
        },
        "id": "UI7kswDH2VO3",
        "outputId": "1d6c2ce2-5daf-4659-915e-2f856866cc6d"
      },
      "execution_count": 5,
      "outputs": [
        {
          "output_type": "stream",
          "name": "stdout",
          "text": [
            "--2024-03-19 22:33:46--  https://huggingface.co/TheBloke/Mistral-7B-Instruct-v0.1-GGUF/resolve/main/mistral-7b-instruct-v0.1.Q2_K.gguf\n",
            "Resolving huggingface.co (huggingface.co)... 13.35.7.81, 13.35.7.5, 13.35.7.38, ...\n",
            "Connecting to huggingface.co (huggingface.co)|13.35.7.81|:443... connected.\n",
            "HTTP request sent, awaiting response... 302 Found\n",
            "Location: https://cdn-lfs.huggingface.co/repos/46/12/46124cd8d4788fd8e0879883abfc473f247664b987955cc98a08658f7df6b826/f27558927c82a62367ba29337af784d7502682c0fe01b2ca2a369fdaeaa61ea4?response-content-disposition=attachment%3B+filename*%3DUTF-8%27%27mistral-7b-instruct-v0.1.Q2_K.gguf%3B+filename%3D%22mistral-7b-instruct-v0.1.Q2_K.gguf%22%3B&Expires=1711146827&Policy=eyJTdGF0ZW1lbnQiOlt7IkNvbmRpdGlvbiI6eyJEYXRlTGVzc1RoYW4iOnsiQVdTOkVwb2NoVGltZSI6MTcxMTE0NjgyN319LCJSZXNvdXJjZSI6Imh0dHBzOi8vY2RuLWxmcy5odWdnaW5nZmFjZS5jby9yZXBvcy80Ni8xMi80NjEyNGNkOGQ0Nzg4ZmQ4ZTA4Nzk4ODNhYmZjNDczZjI0NzY2NGI5ODc5NTVjYzk4YTA4NjU4ZjdkZjZiODI2L2YyNzU1ODkyN2M4MmE2MjM2N2JhMjkzMzdhZjc4NGQ3NTAyNjgyYzBmZTAxYjJjYTJhMzY5ZmRhZWFhNjFlYTQ%7EcmVzcG9uc2UtY29udGVudC1kaXNwb3NpdGlvbj0qIn1dfQ__&Signature=AaBB0t4DnCPYkDxeRFheLKntZ6xhweqM8yvMPAoGr6v00CLvKxC8FGX1YhqWF4lhW7mu2KNv%7EzzuI49wQ7i6ox%7EaKN-7J0nO8VkDPNMjmEdN0VqYae-MFX0grlyx7icf-RDWxR03w7wB0kqvsQ5vx-v10NFTLkzgx9Ge4JfwYkc26Nl1CJVB-5LmzNPDywHttTfaRqD7UgrQl2VH1QAWuqLsfY%7EX7hC12WEElyHD4t-DSkQIw2x-SlXOzYKo57KMfLbWn44uEjQmBtIgUoAUv2d1dTA2lcfKAJtEAAyP0MoHFQ1Q7%7EkbnxB90sUFBF8zxvijDYaDFGR1-J-bN4F0Gw__&Key-Pair-Id=KVTP0A1DKRTAX [following]\n",
            "--2024-03-19 22:33:47--  https://cdn-lfs.huggingface.co/repos/46/12/46124cd8d4788fd8e0879883abfc473f247664b987955cc98a08658f7df6b826/f27558927c82a62367ba29337af784d7502682c0fe01b2ca2a369fdaeaa61ea4?response-content-disposition=attachment%3B+filename*%3DUTF-8%27%27mistral-7b-instruct-v0.1.Q2_K.gguf%3B+filename%3D%22mistral-7b-instruct-v0.1.Q2_K.gguf%22%3B&Expires=1711146827&Policy=eyJTdGF0ZW1lbnQiOlt7IkNvbmRpdGlvbiI6eyJEYXRlTGVzc1RoYW4iOnsiQVdTOkVwb2NoVGltZSI6MTcxMTE0NjgyN319LCJSZXNvdXJjZSI6Imh0dHBzOi8vY2RuLWxmcy5odWdnaW5nZmFjZS5jby9yZXBvcy80Ni8xMi80NjEyNGNkOGQ0Nzg4ZmQ4ZTA4Nzk4ODNhYmZjNDczZjI0NzY2NGI5ODc5NTVjYzk4YTA4NjU4ZjdkZjZiODI2L2YyNzU1ODkyN2M4MmE2MjM2N2JhMjkzMzdhZjc4NGQ3NTAyNjgyYzBmZTAxYjJjYTJhMzY5ZmRhZWFhNjFlYTQ%7EcmVzcG9uc2UtY29udGVudC1kaXNwb3NpdGlvbj0qIn1dfQ__&Signature=AaBB0t4DnCPYkDxeRFheLKntZ6xhweqM8yvMPAoGr6v00CLvKxC8FGX1YhqWF4lhW7mu2KNv%7EzzuI49wQ7i6ox%7EaKN-7J0nO8VkDPNMjmEdN0VqYae-MFX0grlyx7icf-RDWxR03w7wB0kqvsQ5vx-v10NFTLkzgx9Ge4JfwYkc26Nl1CJVB-5LmzNPDywHttTfaRqD7UgrQl2VH1QAWuqLsfY%7EX7hC12WEElyHD4t-DSkQIw2x-SlXOzYKo57KMfLbWn44uEjQmBtIgUoAUv2d1dTA2lcfKAJtEAAyP0MoHFQ1Q7%7EkbnxB90sUFBF8zxvijDYaDFGR1-J-bN4F0Gw__&Key-Pair-Id=KVTP0A1DKRTAX\n",
            "Resolving cdn-lfs.huggingface.co (cdn-lfs.huggingface.co)... 13.35.7.93, 13.35.7.113, 13.35.7.14, ...\n",
            "Connecting to cdn-lfs.huggingface.co (cdn-lfs.huggingface.co)|13.35.7.93|:443... connected.\n",
            "HTTP request sent, awaiting response... 200 OK\n",
            "Length: 3083097760 (2.9G) [binary/octet-stream]\n",
            "Saving to: ‘models/mistral-7b-instruct-v0.1.Q2_K.gguf’\n",
            "\n",
            "mistral-7b-instruct 100%[===================>]   2.87G  84.7MB/s    in 35s     \n",
            "\n",
            "2024-03-19 22:34:22 (84.2 MB/s) - ‘models/mistral-7b-instruct-v0.1.Q2_K.gguf’ saved [3083097760/3083097760]\n",
            "\n"
          ]
        }
      ]
    },
    {
      "cell_type": "code",
      "source": [
        "!ls data/"
      ],
      "metadata": {
        "colab": {
          "base_uri": "https://localhost:8080/"
        },
        "id": "lPGe9sDK23Xx",
        "outputId": "281979f6-28c5-40c5-8d79-bb956dedb0c4"
      },
      "execution_count": 6,
      "outputs": [
        {
          "output_type": "stream",
          "name": "stdout",
          "text": [
            "invoice_1.pdf  prague.pdf\n"
          ]
        }
      ]
    },
    {
      "cell_type": "code",
      "source": [
        "!python ingest.py"
      ],
      "metadata": {
        "colab": {
          "base_uri": "https://localhost:8080/"
        },
        "id": "_B_izUGy3V1s",
        "outputId": "abad4391-de83-4c0c-cd22-e72693be02db"
      },
      "execution_count": 7,
      "outputs": [
        {
          "output_type": "stream",
          "name": "stdout",
          "text": [
            "modules.json: 100% 349/349 [00:00<00:00, 1.06MB/s]\n",
            "config_sentence_transformers.json: 100% 116/116 [00:00<00:00, 360kB/s]\n",
            "README.md: 100% 10.6k/10.6k [00:00<00:00, 19.3MB/s]\n",
            "sentence_bert_config.json: 100% 53.0/53.0 [00:00<00:00, 205kB/s]\n",
            "config.json: 100% 571/571 [00:00<00:00, 2.56MB/s]\n",
            "pytorch_model.bin: 100% 438M/438M [00:01<00:00, 237MB/s]\n",
            "tokenizer_config.json: 100% 363/363 [00:00<00:00, 1.28MB/s]\n",
            "vocab.txt: 100% 232k/232k [00:00<00:00, 580kB/s]\n",
            "tokenizer.json: 100% 466k/466k [00:00<00:00, 780kB/s]\n",
            "special_tokens_map.json: 100% 239/239 [00:00<00:00, 1.02MB/s]\n",
            "1_Pooling/config.json: 100% 190/190 [00:00<00:00, 521kB/s]\n"
          ]
        }
      ]
    },
    {
      "cell_type": "code",
      "source": [
        "! python main.py \"what is the name of the seller ?\"\n"
      ],
      "metadata": {
        "colab": {
          "base_uri": "https://localhost:8080/"
        },
        "id": "J4aKJ9f84MBY",
        "outputId": "1b21d030-cc5a-46c4-bb30-eae1a5737be9"
      },
      "execution_count": 9,
      "outputs": [
        {
          "output_type": "stream",
          "name": "stdout",
          "text": [
            "\n",
            "Answer: The name of the seller is Chapman, Kim and Green.\n",
            "==================================================\n",
            "Time to retrieve answer: 273.72261386900004\n"
          ]
        }
      ]
    },
    {
      "cell_type": "code",
      "source": [
        "! python main.py \"what is the adress of Loreto ?\""
      ],
      "metadata": {
        "colab": {
          "base_uri": "https://localhost:8080/"
        },
        "id": "cZm5RFkw7TMc",
        "outputId": "b713aa6b-5660-4713-910f-fda641f35db2"
      },
      "execution_count": 10,
      "outputs": [
        {
          "output_type": "stream",
          "name": "stdout",
          "text": [
            "\n",
            "Answer: Loreto\n",
            "Loretánské náměstí 7, Prague 1\n",
            "www.loreta.cz\n",
            "==================================================\n",
            "Time to retrieve answer: 166.11579573099993\n"
          ]
        }
      ]
    },
    {
      "cell_type": "code",
      "source": [
        "! python main.py \"can you tell me where to go to club in Prague ?\""
      ],
      "metadata": {
        "colab": {
          "base_uri": "https://localhost:8080/"
        },
        "id": "rt74lE-D8Lse",
        "outputId": "cfee2ac2-39f9-4721-d031-3a4a4720dfb4"
      },
      "execution_count": 11,
      "outputs": [
        {
          "output_type": "stream",
          "name": "stdout",
          "text": [
            "\n",
            "Answer: Lucerna Music Bar, Vodičkova 36, Prague 1 - Nové Město, www.musicbar.cz\n",
            "==================================================\n",
            "Time to retrieve answer: 243.15901211599976\n"
          ]
        }
      ]
    }
  ]
}